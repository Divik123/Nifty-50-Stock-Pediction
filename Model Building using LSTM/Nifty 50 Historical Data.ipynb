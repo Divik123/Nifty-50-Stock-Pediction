{
 "cells": [
  {
   "cell_type": "code",
   "execution_count": 21,
   "id": "9f882b3f",
   "metadata": {},
   "outputs": [],
   "source": [
    "\n",
    "nf50_url = 'https://www1.nseindia.com/content/indices/ind_nifty50list.csv' # Import from NSE Nifty50 list Site\n",
    "\n",
    "df_nf50 = pd.read_csv(nf50_url)\n",
    "Compy = df_nf50['Symbol']\n"
   ]
  },
  {
   "cell_type": "code",
   "execution_count": 22,
   "id": "7ea9886c",
   "metadata": {},
   "outputs": [],
   "source": [
    "Symbol_li = []\n",
    "\n",
    "for i in np.array(Compy):\n",
    "  Symbol_li.append(i)"
   ]
  },
  {
   "cell_type": "code",
   "execution_count": 38,
   "id": "21c315ae",
   "metadata": {},
   "outputs": [],
   "source": [
    "Company_name=[]\n",
    "for i in Symbol_li:\n",
    "    Company_name.append({\"userEnteredValue\" : i})"
   ]
  },
  {
   "cell_type": "code",
   "execution_count": 37,
   "id": "24b9d017",
   "metadata": {},
   "outputs": [
    {
     "data": {
      "text/plain": [
       "['ADANIENT',\n",
       " 'ADANIPORTS',\n",
       " 'APOLLOHOSP',\n",
       " 'ASIANPAINT',\n",
       " 'AXISBANK',\n",
       " 'BAJAJ-AUTO',\n",
       " 'BAJFINANCE',\n",
       " 'BAJAJFINSV',\n",
       " 'BPCL',\n",
       " 'BHARTIARTL',\n",
       " 'BRITANNIA',\n",
       " 'CIPLA',\n",
       " 'COALINDIA',\n",
       " 'DIVISLAB',\n",
       " 'DRREDDY',\n",
       " 'EICHERMOT',\n",
       " 'GRASIM',\n",
       " 'HCLTECH',\n",
       " 'HDFCBANK',\n",
       " 'HDFCLIFE',\n",
       " 'HEROMOTOCO',\n",
       " 'HINDALCO',\n",
       " 'HINDUNILVR',\n",
       " 'HDFC',\n",
       " 'ICICIBANK',\n",
       " 'ITC',\n",
       " 'INDUSINDBK',\n",
       " 'INFY',\n",
       " 'JSWSTEEL',\n",
       " 'KOTAKBANK',\n",
       " 'LT',\n",
       " 'M&M',\n",
       " 'MARUTI',\n",
       " 'NTPC',\n",
       " 'NESTLEIND',\n",
       " 'ONGC',\n",
       " 'POWERGRID',\n",
       " 'RELIANCE',\n",
       " 'SBILIFE',\n",
       " 'SBIN',\n",
       " 'SUNPHARMA',\n",
       " 'TCS',\n",
       " 'TATACONSUM',\n",
       " 'TATAMOTORS',\n",
       " 'TATASTEEL',\n",
       " 'TECHM',\n",
       " 'TITAN',\n",
       " 'UPL',\n",
       " 'ULTRACEMCO',\n",
       " 'WIPRO']"
      ]
     },
     "execution_count": 37,
     "metadata": {},
     "output_type": "execute_result"
    }
   ],
   "source": [
    "Symbol_li"
   ]
  },
  {
   "cell_type": "code",
   "execution_count": 33,
   "id": "b9ce8d44",
   "metadata": {},
   "outputs": [],
   "source": [
    "import gspread as gs\n",
    "gc=gs.service_account(filename=\"C:/Users/HP/Desktop/stock-markset-522276b84584.json\")\n",
    "WC = gc.open_by_url('https://docs.google.com/spreadsheets/d/1XM7nkx6EvIET8J9EMP_p6ZItF8EDLQTdY8oGnc3sUfw/edit#gid=0')# MAIN SPREADSHEET"
   ]
  },
  {
   "cell_type": "code",
   "execution_count": 35,
   "id": "f340f810",
   "metadata": {},
   "outputs": [
    {
     "data": {
      "text/plain": [
       "<Worksheet 'Sheet1' id:0>"
      ]
     },
     "execution_count": 35,
     "metadata": {},
     "output_type": "execute_result"
    }
   ],
   "source": [
    "Nifty50=WC.get_worksheet(0)\n",
    "Nifty50"
   ]
  },
  {
   "cell_type": "code",
   "execution_count": 40,
   "id": "32530f33",
   "metadata": {},
   "outputs": [
    {
     "data": {
      "text/plain": [
       "{'spreadsheetId': '1XM7nkx6EvIET8J9EMP_p6ZItF8EDLQTdY8oGnc3sUfw',\n",
       " 'replies': [{}]}"
      ]
     },
     "execution_count": 40,
     "metadata": {},
     "output_type": "execute_result"
    }
   ],
   "source": [
    "sheetName = \"Sheet1\" # Sheet_Name.\n",
    "sheetId = WC.worksheet(sheetName).id # Extracting Sheet_ID\n",
    "body = {\n",
    "    \"requests\": [\n",
    "        {\n",
    "            \"updateCells\": {\n",
    "                \"range\": {\n",
    "                    \"sheetId\": sheetId,\n",
    "                    \"startRowIndex\": 5,\n",
    "                    \"endRowIndex\": 6,\n",
    "                    \"startColumnIndex\": 1,\n",
    "                    \"endColumnIndex\": 2\n",
    "                },\n",
    "                \"rows\": [\n",
    "                    {\n",
    "                        \"values\": [\n",
    "                            {\n",
    "                                \"dataValidation\": {\n",
    "                                    \"condition\": {\n",
    "                                        \"values\": Company_name,\n",
    "                                        \"type\": \"ONE_OF_LIST\"\n",
    "                                    },\n",
    "                                    \"showCustomUi\": True\n",
    "                                }\n",
    "                            }\n",
    "                        ]\n",
    "                    }\n",
    "                ],\n",
    "                \"fields\": \"dataValidation\"\n",
    "            }\n",
    "        }\n",
    "    ]\n",
    " }\n",
    "WC.batch_update(body)\n",
    "# 8:00"
   ]
  },
  {
   "cell_type": "code",
   "execution_count": 7,
   "id": "fb13c715",
   "metadata": {},
   "outputs": [],
   "source": [
    "import numpy as np\n",
    "import pandas as pd\n",
    "import seaborn as sns\n",
    "import matplotlib.pyplot as plt\n",
    "# get_ipython().run_line_magic('matplotlib', 'inline')\n",
    "from sklearn.preprocessing import MinMaxScaler\n",
    "import numpy\n",
    "import tensorflow as tfl\n",
    "from tensorflow.keras.models import Sequential\n",
    "from tensorflow.keras.layers import Dense\n",
    "from tensorflow.keras.layers import LSTM"
   ]
  },
  {
   "cell_type": "code",
   "execution_count": 26,
   "id": "a8685d0f",
   "metadata": {},
   "outputs": [],
   "source": [
    "def stockPredictionModel(name_of_stock, number_of_share, start_date, end_date):\n",
    "    df = pd.read_csv(\"C:/Users/HP/Desktop/Ml Project/nifty50.csv\")\n",
    "    df.head()\n",
    "    df = df.drop(\"Unnamed: 0\" , axis = 1)\n",
    "    df[\"Date\"] = pd.to_datetime(df[\"Date\"])\n",
    "    # name_of_stock = input(\"Enter Name Of Stock\")\n",
    "    # number_of_share = int(input(\"Number Of Share\"))\n",
    "    Y = df[df[\"Symbol\"]==name_of_stock][[\"Close\"]]\n",
    "    # start_date = input(\"Start Date\")\n",
    "    # end_date = input(\"End Date\")\n",
    "    start_date = pd.to_datetime(start_date)\n",
    "    end_date = pd.to_datetime(end_date)\n",
    "    scaler=MinMaxScaler(feature_range=(0,1))\n",
    "    Y=scaler.fit_transform(np.array(Y).reshape(-1,1))\n",
    "    training_size=int(len(Y)*0.65)\n",
    "    test_size=len(Y)-training_size\n",
    "    train_data,test_data=Y[0:training_size,:],Y[training_size:len(Y),:1]\n",
    "    def create_dataset(dataset, time_step):\n",
    "        dataX, dataY = [], []\n",
    "        for i in range(len(dataset)-time_step-1):\n",
    "            a = dataset[i:(i+time_step), 0]   ###i=0, 0,1,2,3-----99   100 \n",
    "            dataX.append(a)\n",
    "            dataY.append(dataset[i + time_step, 0])\n",
    "        return numpy.array(dataX), numpy.array(dataY)    \n",
    "    time_step = 100\n",
    "    X_train, y_train = create_dataset(train_data, time_step)\n",
    "    X_test, ytest = create_dataset(test_data, time_step)\n",
    "    X_train =X_train.reshape(X_train.shape[0],X_train.shape[1] , 1)\n",
    "    X_test = X_test.reshape(X_test.shape[0],X_test.shape[1] , 1)\n",
    "    \n",
    "    ### Create the Stacked LSTM model\n",
    "\n",
    "    model=Sequential()\n",
    "    model.add(LSTM(50,return_sequences=True,input_shape=(100,1)))\n",
    "    model.add(LSTM(50,return_sequences=True))\n",
    "    model.add(LSTM(50))\n",
    "    model.add(Dense(1))\n",
    "    model.compile(loss='mean_squared_error',optimizer='adam')\n",
    "    model.fit(X_train,y_train,validation_data=(X_test,ytest),epochs=5,batch_size=64,verbose=1)\n",
    "    last_date = pd.to_datetime(\"2022-12-12\")\n",
    "    lst_output_1=[]\n",
    "    lst_output_2=[]\n",
    "    diff_1 = start_date-last_date\n",
    "    diff_2 = end_date-last_date\n",
    "    if int(diff_1.days)>0:\n",
    "        n_steps=100\n",
    "        x_input=test_data[len(test_data)-n_steps:].reshape(1,-1)\n",
    "        temp_input=list(x_input)\n",
    "        temp_input=temp_input[0].tolist()\n",
    "        i=0\n",
    "        while(i<int(diff_1.days)):\n",
    "            if(len(temp_input)>100):\n",
    "                #print(temp_input)\n",
    "                x_input=np.array(temp_input[1:])\n",
    "    #                 print(\"{} day input {}\".format(i,x_input))\n",
    "                x_input=x_input.reshape(1,-1)\n",
    "                x_input = x_input.reshape((1, n_steps, 1))\n",
    "                #print(x_input)\n",
    "                yhat = model.predict(x_input, verbose=0)\n",
    "    #                 print(\"{} day output {}\".format(i,yhat))\n",
    "                temp_input.extend(yhat[0].tolist())\n",
    "                temp_input=temp_input[1:]\n",
    "                #print(temp_input)\n",
    "                lst_output_1.extend(yhat.tolist())\n",
    "                i=i+1\n",
    "            else:\n",
    "                x_input = x_input.reshape((1, n_steps,1))\n",
    "                yhat = model.predict(x_input, verbose=0)\n",
    "    #                 print(yhat[0])\n",
    "                temp_input.extend(yhat[0].tolist())\n",
    "    #                 print(len(temp_input))\n",
    "                lst_output_1.extend(yhat.tolist())\n",
    "                i=i+1\n",
    "\n",
    "\n",
    "            \n",
    "    if int(diff_2.days)>0:\n",
    "        n_steps=100\n",
    "        x_input=test_data[len(test_data)-n_steps:].reshape(1,-1)\n",
    "        temp_input=list(x_input)\n",
    "        temp_input=temp_input[0].tolist()\n",
    "        i=0\n",
    "        while(i<int(diff_2.days)):\n",
    "            if(len(temp_input)>100):\n",
    "                #print(temp_input)\n",
    "                x_input=np.array(temp_input[1:])\n",
    "    #                 print(\"{} day input {}\".format(i,x_input))\n",
    "                x_input=x_input.reshape(1,-1)\n",
    "                x_input = x_input.reshape((1, n_steps, 1))\n",
    "                #print(x_input)\n",
    "                yhat = model.predict(x_input, verbose=0)\n",
    "    #                 print(\"{} day output {}\".format(i,yhat))\n",
    "                temp_input.extend(yhat[0].tolist())\n",
    "                temp_input=temp_input[1:]\n",
    "                #print(temp_input)\n",
    "                lst_output_2.extend(yhat.tolist())\n",
    "                i=i+1\n",
    "            else:\n",
    "                x_input = x_input.reshape((1, n_steps,1))\n",
    "                yhat = model.predict(x_input, verbose=0)\n",
    "    #                 print(yhat[0])\n",
    "                temp_input.extend(yhat[0].tolist())\n",
    "    #                 print(len(temp_input))\n",
    "                lst_output_2.extend(yhat.tolist())\n",
    "                i=i+1\n",
    "            \n",
    "    invests = scaler.inverse_transform(lst_output_1)[-1]\n",
    "    returns = scaler.inverse_transform(lst_output_2)[-1]\n",
    "    Final_Amount = ((returns-invests)*(int(number_of_share)))\n",
    "    if Final_Amount[0]>0:\n",
    "        print(\"Profit: \" ,Final_Amount[0])\n",
    "        Nifty50.update('B10',Final_Amount[0])\n",
    "        return Final_Amount[0]\n",
    "    else:\n",
    "        print(\"Loss: \" ,Final_Amount[0])\n",
    "        Nifty50.update('B10',Final_Amount[0])\n",
    "        return Final_Amount[0]\n",
    "  "
   ]
  },
  {
   "cell_type": "code",
   "execution_count": 42,
   "metadata": {},
   "outputs": [
    {
     "name": "stdout",
     "output_type": "stream",
     "text": [
      "Epoch 1/5\n"
     ]
    }
   ],
   "source": [
    "name_of_stock = Nifty50.acell('B6').value\n",
    "number_of_share = Nifty50.acell('B7').value\n",
    "start_date = Nifty50.acell('B8').value\n",
    "end_date = Nifty50.acell('B9').value\n",
    "stockPredictionModel(name_of_stock, number_of_share, start_date, end_date)\n"
   ]
  },
  {
   "cell_type": "code",
   "execution_count": null,
   "id": "4e609a76",
   "metadata": {},
   "outputs": [],
   "source": []
  }
 ],
 "metadata": {
  "kernelspec": {
   "display_name": "Python 3",
   "language": "python",
   "name": "python3"
  },
  "language_info": {
   "codemirror_mode": {
    "name": "ipython",
    "version": 3
   },
   "file_extension": ".py",
   "mimetype": "text/x-python",
   "name": "python",
   "nbconvert_exporter": "python",
   "pygments_lexer": "ipython3",
   "version": "3.11.0"
  },
  "vscode": {
   "interpreter": {
    "hash": "5238573367df39f7286bb46f9ff5f08f63a01a80960060ce41e3c79b190280fa"
   }
  }
 },
 "nbformat": 4,
 "nbformat_minor": 5
}
